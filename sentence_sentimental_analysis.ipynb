{
  "nbformat": 4,
  "nbformat_minor": 0,
  "metadata": {
    "colab": {
      "name": "sentence sentimental analysis.ipynb",
      "provenance": [],
      "collapsed_sections": [],
      "include_colab_link": true
    },
    "kernelspec": {
      "name": "python3",
      "display_name": "Python 3"
    },
    "language_info": {
      "name": "python"
    }
  },
  "cells": [
    {
      "cell_type": "markdown",
      "metadata": {
        "id": "view-in-github",
        "colab_type": "text"
      },
      "source": [
        "<a href=\"https://colab.research.google.com/github/Shiyao-monster/web/blob/main/sentence_sentimental_analysis.ipynb\" target=\"_parent\"><img src=\"https://colab.research.google.com/assets/colab-badge.svg\" alt=\"Open In Colab\"/></a>"
      ]
    },
    {
      "cell_type": "code",
      "metadata": {
        "colab": {
          "base_uri": "https://localhost:8080/"
        },
        "id": "IwIj7bRbESjw",
        "outputId": "706abd29-a06b-4821-c6f6-ec52134e3e3e"
      },
      "source": [
        "%tensorflow_version 2.x  # this line is not required unless you are in a notebook\n",
        "from keras.datasets import imdb\n",
        "from keras.preprocessing import sequence\n",
        "import keras\n",
        "import tensorflow as tf\n",
        "import os\n",
        "import numpy as np\n",
        "\n",
        "VOCAB_SIZE = 88584\n",
        "\n",
        "MAXLEN = 1024 # max length of the review\n",
        "BATCH_SIZE = 64\n",
        "\n",
        "(train_data, train_labels), (test_data, test_labels) = imdb.load_data(num_words = VOCAB_SIZE)\n"
      ],
      "execution_count": 1,
      "outputs": [
        {
          "output_type": "stream",
          "text": [
            "`%tensorflow_version` only switches the major version: 1.x or 2.x.\n",
            "You set: `2.x  # this line is not required unless you are in a notebook`. This will be interpreted as: `2.x`.\n",
            "\n",
            "\n",
            "TensorFlow 2.x selected.\n",
            "Downloading data from https://storage.googleapis.com/tensorflow/tf-keras-datasets/imdb.npz\n",
            "17465344/17464789 [==============================] - 0s 0us/step\n",
            "17473536/17464789 [==============================] - 0s 0us/step\n"
          ],
          "name": "stdout"
        },
        {
          "output_type": "stream",
          "text": [
            "<string>:6: VisibleDeprecationWarning: Creating an ndarray from ragged nested sequences (which is a list-or-tuple of lists-or-tuples-or ndarrays with different lengths or shapes) is deprecated. If you meant to do this, you must specify 'dtype=object' when creating the ndarray\n",
            "/usr/local/lib/python3.7/dist-packages/keras/datasets/imdb.py:155: VisibleDeprecationWarning: Creating an ndarray from ragged nested sequences (which is a list-or-tuple of lists-or-tuples-or ndarrays with different lengths or shapes) is deprecated. If you meant to do this, you must specify 'dtype=object' when creating the ndarray\n",
            "  x_train, y_train = np.array(xs[:idx]), np.array(labels[:idx])\n",
            "/usr/local/lib/python3.7/dist-packages/keras/datasets/imdb.py:156: VisibleDeprecationWarning: Creating an ndarray from ragged nested sequences (which is a list-or-tuple of lists-or-tuples-or ndarrays with different lengths or shapes) is deprecated. If you meant to do this, you must specify 'dtype=object' when creating the ndarray\n",
            "  x_test, y_test = np.array(xs[idx:]), np.array(labels[idx:])\n"
          ],
          "name": "stderr"
        }
      ]
    },
    {
      "cell_type": "code",
      "metadata": {
        "id": "wcenlhUVaRiN"
      },
      "source": [
        "device_name = tf.test.gpu_device_name()\n",
        "if device_name != '/device:GPU:0':\n",
        "  model = tf.keras.Sequential([\n",
        "      tf.keras.layers.Embedding(VOCAB_SIZE, 128),\n",
        "      tf.keras.layers.LSTM(32, return_sequences=True),\n",
        "      tf.keras.layers.LSTM(32),\n",
        "      tf.keras.layers.Dense(1, activation='sigmoid')\n",
        "      ])\n",
        "else:\n",
        "  print('Found GPU at: {}'.format(device_name))\n",
        "  with tf.device('/device:GPU:0'):\n",
        "    model = tf.keras.Sequential([\n",
        "        tf.keras.layers.Embedding(VOCAB_SIZE, 128),\n",
        "        tf.keras.layers.LSTM(32, return_sequences=True),\n",
        "        tf.keras.layers.LSTM(32),\n",
        "        tf.keras.layers.Dense(1, activation='sigmoid')\n",
        "        ])\n"
      ],
      "execution_count": 2,
      "outputs": []
    },
    {
      "cell_type": "code",
      "metadata": {
        "id": "KCWBJZQfEcVY"
      },
      "source": [
        "# model = tf.keras.Sequential([\n",
        "#       tf.keras.layers.Embedding(VOCAB_SIZE, 128),\n",
        "#       tf.keras.layers.LSTM(32, return_sequences=True),\n",
        "#       tf.keras.layers.LSTM(32),\n",
        "#       tf.keras.layers.Dense(1, activation='sigmoid')\n",
        "#       ])"
      ],
      "execution_count": 3,
      "outputs": []
    },
    {
      "cell_type": "code",
      "metadata": {
        "id": "ToMjZQsFXjMn"
      },
      "source": [
        "train_data = sequence.pad_sequences(train_data, MAXLEN)\n",
        "test_data = sequence.pad_sequences(test_data, MAXLEN)\n",
        "\n",
        "\n",
        "# model.compile(loss=\"binary_crossentropy\", optimizer=\"adam\", metrics=['acc'])\n",
        "\n",
        "model.compile(loss=\"binary_crossentropy\", optimizer='rmsprop', metrics=['acc'])\n",
        "\n",
        "checkpoint_filepath = '/tmp/checkpoint'\n",
        "model_checkpoint_callback = tf.keras.callbacks.ModelCheckpoint(filepath=checkpoint_filepath,\n",
        "                                                               save_weights_only=True,\n",
        "                                                               monitor='val_acc',\n",
        "                                                               mode='max',\n",
        "                                                               save_best_only=True)\n",
        "early_stopping_callback = tf.keras.callbacks.EarlyStopping(monitor='val_acc', patience=3)\n",
        "\n",
        "history = model.fit(train_data, train_labels, epochs=8, validation_split=0.2, \n",
        "                    callbacks=[model_checkpoint_callback, early_stopping_callback])\n",
        "\n",
        "!mkdir -p drive\n",
        "!google-drive-ocamlfuse drive\n",
        "import sys\n",
        "sys.path.append('drive/Project')\n",
        "model.save('drive/Project/latest_model.h5')"
      ],
      "execution_count": null,
      "outputs": []
    },
    {
      "cell_type": "code",
      "metadata": {
        "id": "5jgWqn8HFLPX",
        "colab": {
          "base_uri": "https://localhost:8080/"
        },
        "outputId": "88a3abf5-311e-447c-a9e3-17767eb20e6a"
      },
      "source": [
        "results = model.evaluate(test_data, test_labels)\n",
        "print(results)"
      ],
      "execution_count": 8,
      "outputs": [
        {
          "output_type": "stream",
          "text": [
            "782/782 [==============================] - 116s 149ms/step - loss: 0.3028 - acc: 0.8816\n",
            "[0.3028259575366974, 0.881600022315979]\n"
          ],
          "name": "stdout"
        }
      ]
    },
    {
      "cell_type": "code",
      "metadata": {
        "id": "-QXUYFcLM3v3"
      },
      "source": [
        "from keras.models import load_model\n",
        "\n",
        "model.load_weights(checkpoint_filepath)\n",
        "\n",
        "!mkdir -p drive\n",
        "!google-drive-ocamlfuse drive\n",
        "sys.path.append('drive/Project')\n",
        "model.save('drive/Project/best_model.h5')\n",
        "\n",
        "word_index = imdb.get_word_index()\n",
        "\n",
        "def encode_text(text):\n",
        "  tokens = keras.preprocessing.text.text_to_word_sequence(text)\n",
        "  tokens = [word_index[word] if word in word_index else 0 for word in tokens]\n",
        "  return sequence.pad_sequences([tokens], MAXLEN)[0]\n",
        "\n",
        "reverse_word_index = {value: key for (key, value) in word_index.items()}\n",
        "\n",
        "def decode_integers(integers):\n",
        "    PAD = 0\n",
        "    text = \"\"\n",
        "    for num in integers:\n",
        "      if num != PAD:\n",
        "        text += reverse_word_index[num] + \" \"\n",
        "\n",
        "    return text[:-1]\n",
        "\n",
        "def predict(text):\n",
        "  encoded_text = encode_text(text)\n",
        "  pred = np.zeros((1,1024))\n",
        "  pred[0] = encoded_text\n",
        "  result = model.predict(pred) \n",
        "  # print(result[0])\n",
        "  return result\n"
      ],
      "execution_count": null,
      "outputs": []
    },
    {
      "cell_type": "code",
      "metadata": {
        "id": "zjG7BHrxJy5y"
      },
      "source": [
        "# positive_review = \"That movie was! really loved it and would great watch it again because it was amazingly great\"\n",
        "positive_review = \"I am grateful.\"\n",
        "predict(positive_review).item()"
      ],
      "execution_count": null,
      "outputs": []
    },
    {
      "cell_type": "code",
      "metadata": {
        "id": "nO_blpsLJ0Jd"
      },
      "source": [
        "best_model = load_model('/content/drive/Project/best_model.h5')"
      ],
      "execution_count": 10,
      "outputs": []
    },
    {
      "cell_type": "code",
      "metadata": {
        "colab": {
          "base_uri": "https://localhost:8080/"
        },
        "id": "DWZdNyh8MI6t",
        "outputId": "109d26ca-1855-413b-bfd1-c469f5d90690"
      },
      "source": [
        "best_results = best_model.evaluate(test_data, test_labels)\n",
        "print(best_results)"
      ],
      "execution_count": 11,
      "outputs": [
        {
          "output_type": "stream",
          "text": [
            "782/782 [==============================] - 129s 146ms/step - loss: 0.3028 - acc: 0.8816\n",
            "[0.3028259575366974, 0.881600022315979]\n"
          ],
          "name": "stdout"
        }
      ]
    },
    {
      "cell_type": "code",
      "metadata": {
        "colab": {
          "base_uri": "https://localhost:8080/"
        },
        "id": "KGvs9aU0MbYx",
        "outputId": "c8ebfb52-444c-41f5-c68b-fadecf1329af"
      },
      "source": [
        "latest_model = load_model('/content/drive/Project/latest_model.h5')\n",
        "latest_results = latest_model.evaluate(test_data, test_labels)\n",
        "print(latest_results)"
      ],
      "execution_count": 12,
      "outputs": [
        {
          "output_type": "stream",
          "text": [
            "782/782 [==============================] - 119s 151ms/step - loss: 0.4982 - acc: 0.8681\n",
            "[0.49821633100509644, 0.868120014667511]\n"
          ],
          "name": "stdout"
        }
      ]
    },
    {
      "cell_type": "code",
      "metadata": {
        "colab": {
          "base_uri": "https://localhost:8080/"
        },
        "id": "J-6JTTfsMp4I",
        "outputId": "e80436a5-036a-4c0e-9a7f-d6eae62f5ccc"
      },
      "source": [
        "def best_predict(text):\n",
        "  encoded_text = encode_text(text)\n",
        "  pred = np.zeros((1,1024))\n",
        "  pred[0] = encoded_text\n",
        "  result = best_model.predict(pred) \n",
        "  print(result[0])\n",
        "  return result\n",
        "positive_review = \"I am happy.\"\n",
        "best_predict(positive_review).item()"
      ],
      "execution_count": 14,
      "outputs": [
        {
          "output_type": "stream",
          "text": [
            "[0.07327387]\n"
          ],
          "name": "stdout"
        },
        {
          "output_type": "execute_result",
          "data": {
            "text/plain": [
              "0.07327386736869812"
            ]
          },
          "metadata": {
            "tags": []
          },
          "execution_count": 14
        }
      ]
    },
    {
      "cell_type": "code",
      "metadata": {
        "colab": {
          "base_uri": "https://localhost:8080/"
        },
        "id": "_i20OjAONMu-",
        "outputId": "5ffa308c-f7ec-450f-e673-cdc4aadb1348"
      },
      "source": [
        "def latest_predict(text):\n",
        "  encoded_text = encode_text(text)\n",
        "  pred = np.zeros((1,1024))\n",
        "  pred[0] = encoded_text\n",
        "  result = latest_model.predict(pred) \n",
        "  print(result[0])\n",
        "  return result\n",
        "positive_review = \"I am happy.\"\n",
        "latest_predict(positive_review).item()"
      ],
      "execution_count": 15,
      "outputs": [
        {
          "output_type": "stream",
          "text": [
            "[0.02598873]\n"
          ],
          "name": "stdout"
        },
        {
          "output_type": "execute_result",
          "data": {
            "text/plain": [
              "0.025988727807998657"
            ]
          },
          "metadata": {
            "tags": []
          },
          "execution_count": 15
        }
      ]
    }
  ]
}